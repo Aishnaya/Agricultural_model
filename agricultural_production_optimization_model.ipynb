{
  "nbformat": 4,
  "nbformat_minor": 0,
  "metadata": {
    "colab": {
      "name": "agricultural_production_optimization_model.ipynb",
      "provenance": [],
      "collapsed_sections": []
    },
    "kernelspec": {
      "name": "python3",
      "display_name": "Python 3"
    },
    "language_info": {
      "name": "python"
    },
    "widgets": {
      "application/vnd.jupyter.widget-state+json": {
        "8c4676e7c84245ff86802a5563844dde": {
          "model_module": "@jupyter-widgets/controls",
          "model_name": "VBoxModel",
          "state": {
            "_view_name": "VBoxView",
            "_dom_classes": [
              "widget-interact"
            ],
            "_model_name": "VBoxModel",
            "_view_module": "@jupyter-widgets/controls",
            "_model_module_version": "1.5.0",
            "_view_count": null,
            "_view_module_version": "1.5.0",
            "box_style": "",
            "layout": "IPY_MODEL_68042dd7193a4e5084e1e54850698541",
            "_model_module": "@jupyter-widgets/controls",
            "children": [
              "IPY_MODEL_7cd9f6bb2dd74417b3d67b408b90504c",
              "IPY_MODEL_1025830fcf0a431094c23494ad731d10"
            ]
          }
        },
        "68042dd7193a4e5084e1e54850698541": {
          "model_module": "@jupyter-widgets/base",
          "model_name": "LayoutModel",
          "state": {
            "_view_name": "LayoutView",
            "grid_template_rows": null,
            "right": null,
            "justify_content": null,
            "_view_module": "@jupyter-widgets/base",
            "overflow": null,
            "_model_module_version": "1.2.0",
            "_view_count": null,
            "flex_flow": null,
            "width": null,
            "min_width": null,
            "border": null,
            "align_items": null,
            "bottom": null,
            "_model_module": "@jupyter-widgets/base",
            "top": null,
            "grid_column": null,
            "overflow_y": null,
            "overflow_x": null,
            "grid_auto_flow": null,
            "grid_area": null,
            "grid_template_columns": null,
            "flex": null,
            "_model_name": "LayoutModel",
            "justify_items": null,
            "grid_row": null,
            "max_height": null,
            "align_content": null,
            "visibility": null,
            "align_self": null,
            "height": null,
            "min_height": null,
            "padding": null,
            "grid_auto_rows": null,
            "grid_gap": null,
            "max_width": null,
            "order": null,
            "_view_module_version": "1.2.0",
            "grid_template_areas": null,
            "object_position": null,
            "object_fit": null,
            "grid_auto_columns": null,
            "margin": null,
            "display": null,
            "left": null
          }
        },
        "7cd9f6bb2dd74417b3d67b408b90504c": {
          "model_module": "@jupyter-widgets/controls",
          "model_name": "DropdownModel",
          "state": {
            "_options_labels": [
              "papaya",
              "coffee",
              "apple",
              "banana",
              "grapes",
              "lentil",
              "cotton",
              "mothbeans",
              "mungbean",
              "orange",
              "coconut",
              "pomegranate",
              "jute",
              "blackgram",
              "rice",
              "watermelon",
              "muskmelon",
              "chickpea",
              "mango",
              "maize",
              "kidneybeans",
              "pigeonpeas"
            ],
            "_view_name": "DropdownView",
            "style": "IPY_MODEL_5c43bb58bb3b4422a8b43375124c7da8",
            "_dom_classes": [],
            "description": "crops",
            "_model_name": "DropdownModel",
            "index": 0,
            "_view_module": "@jupyter-widgets/controls",
            "_model_module_version": "1.5.0",
            "_view_count": null,
            "disabled": false,
            "_view_module_version": "1.5.0",
            "description_tooltip": null,
            "_model_module": "@jupyter-widgets/controls",
            "layout": "IPY_MODEL_ac1d4367083f4549a185a25c27eb041e"
          }
        },
        "1025830fcf0a431094c23494ad731d10": {
          "model_module": "@jupyter-widgets/output",
          "model_name": "OutputModel",
          "state": {
            "_view_name": "OutputView",
            "msg_id": "",
            "_dom_classes": [],
            "_model_name": "OutputModel",
            "outputs": [
              {
                "output_type": "stream",
                "metadata": {
                  "tags": []
                },
                "text": ".........................\nstats for nitrogen\nmin nitrogen required: 31\nmean nitrogen required: 49.88\nmax nitrogen required: 70\n.........................\nstats for Phosphorous\nmin nitrogen required: 46\nmean nitrogen required: 59.05\nmax nitrogen required: 70\n.........................\nstats for Potassium\nmin nitrogen required: 45\nmean nitrogen required: 50.04\nmax nitrogen required: 55\n.........................\nstats for temperature\nmin nitrogen required: 23.01240180000001\nmean nitrogen required: 33.7238587388\nmax nitrogen required: 43.67549305\n.........................\nstats for humidity\nmin nitrogen required: 90.03863107\nmean nitrogen required: 92.40338768259998\nmax nitrogen required: 94.94482086\n.........................\nstats for pH\nmin nitrogen required: 6.501521192\nmean nitrogen required: 6.74144237274\nmax nitrogen required: 6.993473247000001\n.........................\nstats for rainfall\nmin nitrogen required: 40.35153141\nmean nitrogen required: 142.62783886290003\nmax nitrogen required: 248.85929860000002\n",
                "stream": "stdout"
              }
            ],
            "_view_module": "@jupyter-widgets/output",
            "_model_module_version": "1.0.0",
            "_view_count": null,
            "_view_module_version": "1.0.0",
            "layout": "IPY_MODEL_4991ed09a48c4e57af50c631de68b603",
            "_model_module": "@jupyter-widgets/output"
          }
        },
        "5c43bb58bb3b4422a8b43375124c7da8": {
          "model_module": "@jupyter-widgets/controls",
          "model_name": "DescriptionStyleModel",
          "state": {
            "_view_name": "StyleView",
            "_model_name": "DescriptionStyleModel",
            "description_width": "",
            "_view_module": "@jupyter-widgets/base",
            "_model_module_version": "1.5.0",
            "_view_count": null,
            "_view_module_version": "1.2.0",
            "_model_module": "@jupyter-widgets/controls"
          }
        },
        "ac1d4367083f4549a185a25c27eb041e": {
          "model_module": "@jupyter-widgets/base",
          "model_name": "LayoutModel",
          "state": {
            "_view_name": "LayoutView",
            "grid_template_rows": null,
            "right": null,
            "justify_content": null,
            "_view_module": "@jupyter-widgets/base",
            "overflow": null,
            "_model_module_version": "1.2.0",
            "_view_count": null,
            "flex_flow": null,
            "width": null,
            "min_width": null,
            "border": null,
            "align_items": null,
            "bottom": null,
            "_model_module": "@jupyter-widgets/base",
            "top": null,
            "grid_column": null,
            "overflow_y": null,
            "overflow_x": null,
            "grid_auto_flow": null,
            "grid_area": null,
            "grid_template_columns": null,
            "flex": null,
            "_model_name": "LayoutModel",
            "justify_items": null,
            "grid_row": null,
            "max_height": null,
            "align_content": null,
            "visibility": null,
            "align_self": null,
            "height": null,
            "min_height": null,
            "padding": null,
            "grid_auto_rows": null,
            "grid_gap": null,
            "max_width": null,
            "order": null,
            "_view_module_version": "1.2.0",
            "grid_template_areas": null,
            "object_position": null,
            "object_fit": null,
            "grid_auto_columns": null,
            "margin": null,
            "display": null,
            "left": null
          }
        },
        "4991ed09a48c4e57af50c631de68b603": {
          "model_module": "@jupyter-widgets/base",
          "model_name": "LayoutModel",
          "state": {
            "_view_name": "LayoutView",
            "grid_template_rows": null,
            "right": null,
            "justify_content": null,
            "_view_module": "@jupyter-widgets/base",
            "overflow": null,
            "_model_module_version": "1.2.0",
            "_view_count": null,
            "flex_flow": null,
            "width": null,
            "min_width": null,
            "border": null,
            "align_items": null,
            "bottom": null,
            "_model_module": "@jupyter-widgets/base",
            "top": null,
            "grid_column": null,
            "overflow_y": null,
            "overflow_x": null,
            "grid_auto_flow": null,
            "grid_area": null,
            "grid_template_columns": null,
            "flex": null,
            "_model_name": "LayoutModel",
            "justify_items": null,
            "grid_row": null,
            "max_height": null,
            "align_content": null,
            "visibility": null,
            "align_self": null,
            "height": null,
            "min_height": null,
            "padding": null,
            "grid_auto_rows": null,
            "grid_gap": null,
            "max_width": null,
            "order": null,
            "_view_module_version": "1.2.0",
            "grid_template_areas": null,
            "object_position": null,
            "object_fit": null,
            "grid_auto_columns": null,
            "margin": null,
            "display": null,
            "left": null
          }
        },
        "a31f416c8f224c03ba17d938ea69decd": {
          "model_module": "@jupyter-widgets/controls",
          "model_name": "VBoxModel",
          "state": {
            "_view_name": "VBoxView",
            "_dom_classes": [
              "widget-interact"
            ],
            "_model_name": "VBoxModel",
            "_view_module": "@jupyter-widgets/controls",
            "_model_module_version": "1.5.0",
            "_view_count": null,
            "_view_module_version": "1.5.0",
            "box_style": "",
            "layout": "IPY_MODEL_2be7bd548f8b42278e57c1ac3bc96d00",
            "_model_module": "@jupyter-widgets/controls",
            "children": [
              "IPY_MODEL_23686103bb584b2f994eb31d93e71165",
              "IPY_MODEL_8025695bc6654c2f8841c18a049dfb03"
            ]
          }
        },
        "2be7bd548f8b42278e57c1ac3bc96d00": {
          "model_module": "@jupyter-widgets/base",
          "model_name": "LayoutModel",
          "state": {
            "_view_name": "LayoutView",
            "grid_template_rows": null,
            "right": null,
            "justify_content": null,
            "_view_module": "@jupyter-widgets/base",
            "overflow": null,
            "_model_module_version": "1.2.0",
            "_view_count": null,
            "flex_flow": null,
            "width": null,
            "min_width": null,
            "border": null,
            "align_items": null,
            "bottom": null,
            "_model_module": "@jupyter-widgets/base",
            "top": null,
            "grid_column": null,
            "overflow_y": null,
            "overflow_x": null,
            "grid_auto_flow": null,
            "grid_area": null,
            "grid_template_columns": null,
            "flex": null,
            "_model_name": "LayoutModel",
            "justify_items": null,
            "grid_row": null,
            "max_height": null,
            "align_content": null,
            "visibility": null,
            "align_self": null,
            "height": null,
            "min_height": null,
            "padding": null,
            "grid_auto_rows": null,
            "grid_gap": null,
            "max_width": null,
            "order": null,
            "_view_module_version": "1.2.0",
            "grid_template_areas": null,
            "object_position": null,
            "object_fit": null,
            "grid_auto_columns": null,
            "margin": null,
            "display": null,
            "left": null
          }
        },
        "23686103bb584b2f994eb31d93e71165": {
          "model_module": "@jupyter-widgets/controls",
          "model_name": "DropdownModel",
          "state": {
            "_options_labels": [
              "N",
              "P",
              "K",
              "temperature",
              "humidity",
              "ph",
              "rainfall"
            ],
            "_view_name": "DropdownView",
            "style": "IPY_MODEL_8724a3989c794bddb2af1abe577f53b6",
            "_dom_classes": [],
            "description": "conditions",
            "_model_name": "DropdownModel",
            "index": 6,
            "_view_module": "@jupyter-widgets/controls",
            "_model_module_version": "1.5.0",
            "_view_count": null,
            "disabled": false,
            "_view_module_version": "1.5.0",
            "description_tooltip": null,
            "_model_module": "@jupyter-widgets/controls",
            "layout": "IPY_MODEL_43d756ae1a2d4de486432bb180dcd50a"
          }
        },
        "8025695bc6654c2f8841c18a049dfb03": {
          "model_module": "@jupyter-widgets/output",
          "model_name": "OutputModel",
          "state": {
            "_view_name": "OutputView",
            "msg_id": "",
            "_dom_classes": [],
            "_model_name": "OutputModel",
            "outputs": [
              {
                "output_type": "stream",
                "metadata": {
                  "tags": []
                },
                "text": "Average value of rainfall is 103.46\n...............................................\ncotton: 80.40\nbanana: 104.63\nchickpea: 80.06\npapaya: 142.63\nlentil: 45.68\nmaize: 84.77\njute: 174.79\npigeonpeas: 149.46\ncoconut: 175.69\napple: 112.65\nwatermelon: 50.79\ngrapes: 69.61\nmuskmelon: 24.69\nblackgram: 67.88\ncoffee: 158.07\nmango: 94.70\nrice: 236.18\norange: 110.47\npomegranate: 107.53\nkidneybeans: 105.92\nmungbean: 48.40\nmothbeans: 51.20\n",
                "stream": "stdout"
              }
            ],
            "_view_module": "@jupyter-widgets/output",
            "_model_module_version": "1.0.0",
            "_view_count": null,
            "_view_module_version": "1.0.0",
            "layout": "IPY_MODEL_ad646a8ae1d44928b6ef16f90031ed2a",
            "_model_module": "@jupyter-widgets/output"
          }
        },
        "8724a3989c794bddb2af1abe577f53b6": {
          "model_module": "@jupyter-widgets/controls",
          "model_name": "DescriptionStyleModel",
          "state": {
            "_view_name": "StyleView",
            "_model_name": "DescriptionStyleModel",
            "description_width": "",
            "_view_module": "@jupyter-widgets/base",
            "_model_module_version": "1.5.0",
            "_view_count": null,
            "_view_module_version": "1.2.0",
            "_model_module": "@jupyter-widgets/controls"
          }
        },
        "43d756ae1a2d4de486432bb180dcd50a": {
          "model_module": "@jupyter-widgets/base",
          "model_name": "LayoutModel",
          "state": {
            "_view_name": "LayoutView",
            "grid_template_rows": null,
            "right": null,
            "justify_content": null,
            "_view_module": "@jupyter-widgets/base",
            "overflow": null,
            "_model_module_version": "1.2.0",
            "_view_count": null,
            "flex_flow": null,
            "width": null,
            "min_width": null,
            "border": null,
            "align_items": null,
            "bottom": null,
            "_model_module": "@jupyter-widgets/base",
            "top": null,
            "grid_column": null,
            "overflow_y": null,
            "overflow_x": null,
            "grid_auto_flow": null,
            "grid_area": null,
            "grid_template_columns": null,
            "flex": null,
            "_model_name": "LayoutModel",
            "justify_items": null,
            "grid_row": null,
            "max_height": null,
            "align_content": null,
            "visibility": null,
            "align_self": null,
            "height": null,
            "min_height": null,
            "padding": null,
            "grid_auto_rows": null,
            "grid_gap": null,
            "max_width": null,
            "order": null,
            "_view_module_version": "1.2.0",
            "grid_template_areas": null,
            "object_position": null,
            "object_fit": null,
            "grid_auto_columns": null,
            "margin": null,
            "display": null,
            "left": null
          }
        },
        "ad646a8ae1d44928b6ef16f90031ed2a": {
          "model_module": "@jupyter-widgets/base",
          "model_name": "LayoutModel",
          "state": {
            "_view_name": "LayoutView",
            "grid_template_rows": null,
            "right": null,
            "justify_content": null,
            "_view_module": "@jupyter-widgets/base",
            "overflow": null,
            "_model_module_version": "1.2.0",
            "_view_count": null,
            "flex_flow": null,
            "width": null,
            "min_width": null,
            "border": null,
            "align_items": null,
            "bottom": null,
            "_model_module": "@jupyter-widgets/base",
            "top": null,
            "grid_column": null,
            "overflow_y": null,
            "overflow_x": null,
            "grid_auto_flow": null,
            "grid_area": null,
            "grid_template_columns": null,
            "flex": null,
            "_model_name": "LayoutModel",
            "justify_items": null,
            "grid_row": null,
            "max_height": null,
            "align_content": null,
            "visibility": null,
            "align_self": null,
            "height": null,
            "min_height": null,
            "padding": null,
            "grid_auto_rows": null,
            "grid_gap": null,
            "max_width": null,
            "order": null,
            "_view_module_version": "1.2.0",
            "grid_template_areas": null,
            "object_position": null,
            "object_fit": null,
            "grid_auto_columns": null,
            "margin": null,
            "display": null,
            "left": null
          }
        },
        "3c4527f6cfb84c39b85fe1d032765d86": {
          "model_module": "@jupyter-widgets/controls",
          "model_name": "VBoxModel",
          "state": {
            "_view_name": "VBoxView",
            "_dom_classes": [
              "widget-interact"
            ],
            "_model_name": "VBoxModel",
            "_view_module": "@jupyter-widgets/controls",
            "_model_module_version": "1.5.0",
            "_view_count": null,
            "_view_module_version": "1.5.0",
            "box_style": "",
            "layout": "IPY_MODEL_0179b7ee9c834967a7362432d9d739cf",
            "_model_module": "@jupyter-widgets/controls",
            "children": [
              "IPY_MODEL_c4ad271b680f4b619a632d74bc5aa313",
              "IPY_MODEL_9a8a67a2609747769f72ec3982006662"
            ]
          }
        },
        "0179b7ee9c834967a7362432d9d739cf": {
          "model_module": "@jupyter-widgets/base",
          "model_name": "LayoutModel",
          "state": {
            "_view_name": "LayoutView",
            "grid_template_rows": null,
            "right": null,
            "justify_content": null,
            "_view_module": "@jupyter-widgets/base",
            "overflow": null,
            "_model_module_version": "1.2.0",
            "_view_count": null,
            "flex_flow": null,
            "width": null,
            "min_width": null,
            "border": null,
            "align_items": null,
            "bottom": null,
            "_model_module": "@jupyter-widgets/base",
            "top": null,
            "grid_column": null,
            "overflow_y": null,
            "overflow_x": null,
            "grid_auto_flow": null,
            "grid_area": null,
            "grid_template_columns": null,
            "flex": null,
            "_model_name": "LayoutModel",
            "justify_items": null,
            "grid_row": null,
            "max_height": null,
            "align_content": null,
            "visibility": null,
            "align_self": null,
            "height": null,
            "min_height": null,
            "padding": null,
            "grid_auto_rows": null,
            "grid_gap": null,
            "max_width": null,
            "order": null,
            "_view_module_version": "1.2.0",
            "grid_template_areas": null,
            "object_position": null,
            "object_fit": null,
            "grid_auto_columns": null,
            "margin": null,
            "display": null,
            "left": null
          }
        },
        "c4ad271b680f4b619a632d74bc5aa313": {
          "model_module": "@jupyter-widgets/controls",
          "model_name": "DropdownModel",
          "state": {
            "_options_labels": [
              "N",
              "P",
              "K",
              "temperature",
              "humidity",
              "ph",
              "rainfall"
            ],
            "_view_name": "DropdownView",
            "style": "IPY_MODEL_9516d0b132e84f9397e4034f777a3813",
            "_dom_classes": [],
            "description": "conditions",
            "_model_name": "DropdownModel",
            "index": 1,
            "_view_module": "@jupyter-widgets/controls",
            "_model_module_version": "1.5.0",
            "_view_count": null,
            "disabled": false,
            "_view_module_version": "1.5.0",
            "description_tooltip": null,
            "_model_module": "@jupyter-widgets/controls",
            "layout": "IPY_MODEL_470a4335e2f04911a5cc840f456abd99"
          }
        },
        "9a8a67a2609747769f72ec3982006662": {
          "model_module": "@jupyter-widgets/output",
          "model_name": "OutputModel",
          "state": {
            "_view_name": "OutputView",
            "msg_id": "",
            "_dom_classes": [],
            "_model_name": "OutputModel",
            "outputs": [
              {
                "output_type": "stream",
                "metadata": {
                  "tags": []
                },
                "text": "crops which require greater than avg P \n\n['rice' 'maize' 'chickpea' 'kidneybeans' 'pigeonpeas' 'mothbeans'\n 'mungbean' 'blackgram' 'lentil' 'banana' 'grapes' 'apple' 'papaya'\n 'cotton' 'jute']\n............................................\ncrops which require less than average P \n\n['rice' 'maize' 'mothbeans' 'mungbean' 'pomegranate' 'mango' 'watermelon'\n 'muskmelon' 'orange' 'papaya' 'coconut' 'cotton' 'jute' 'coffee']\n",
                "stream": "stdout"
              }
            ],
            "_view_module": "@jupyter-widgets/output",
            "_model_module_version": "1.0.0",
            "_view_count": null,
            "_view_module_version": "1.0.0",
            "layout": "IPY_MODEL_1e79bbbed99f40b8b63dfbe4334c8906",
            "_model_module": "@jupyter-widgets/output"
          }
        },
        "9516d0b132e84f9397e4034f777a3813": {
          "model_module": "@jupyter-widgets/controls",
          "model_name": "DescriptionStyleModel",
          "state": {
            "_view_name": "StyleView",
            "_model_name": "DescriptionStyleModel",
            "description_width": "",
            "_view_module": "@jupyter-widgets/base",
            "_model_module_version": "1.5.0",
            "_view_count": null,
            "_view_module_version": "1.2.0",
            "_model_module": "@jupyter-widgets/controls"
          }
        },
        "470a4335e2f04911a5cc840f456abd99": {
          "model_module": "@jupyter-widgets/base",
          "model_name": "LayoutModel",
          "state": {
            "_view_name": "LayoutView",
            "grid_template_rows": null,
            "right": null,
            "justify_content": null,
            "_view_module": "@jupyter-widgets/base",
            "overflow": null,
            "_model_module_version": "1.2.0",
            "_view_count": null,
            "flex_flow": null,
            "width": null,
            "min_width": null,
            "border": null,
            "align_items": null,
            "bottom": null,
            "_model_module": "@jupyter-widgets/base",
            "top": null,
            "grid_column": null,
            "overflow_y": null,
            "overflow_x": null,
            "grid_auto_flow": null,
            "grid_area": null,
            "grid_template_columns": null,
            "flex": null,
            "_model_name": "LayoutModel",
            "justify_items": null,
            "grid_row": null,
            "max_height": null,
            "align_content": null,
            "visibility": null,
            "align_self": null,
            "height": null,
            "min_height": null,
            "padding": null,
            "grid_auto_rows": null,
            "grid_gap": null,
            "max_width": null,
            "order": null,
            "_view_module_version": "1.2.0",
            "grid_template_areas": null,
            "object_position": null,
            "object_fit": null,
            "grid_auto_columns": null,
            "margin": null,
            "display": null,
            "left": null
          }
        },
        "1e79bbbed99f40b8b63dfbe4334c8906": {
          "model_module": "@jupyter-widgets/base",
          "model_name": "LayoutModel",
          "state": {
            "_view_name": "LayoutView",
            "grid_template_rows": null,
            "right": null,
            "justify_content": null,
            "_view_module": "@jupyter-widgets/base",
            "overflow": null,
            "_model_module_version": "1.2.0",
            "_view_count": null,
            "flex_flow": null,
            "width": null,
            "min_width": null,
            "border": null,
            "align_items": null,
            "bottom": null,
            "_model_module": "@jupyter-widgets/base",
            "top": null,
            "grid_column": null,
            "overflow_y": null,
            "overflow_x": null,
            "grid_auto_flow": null,
            "grid_area": null,
            "grid_template_columns": null,
            "flex": null,
            "_model_name": "LayoutModel",
            "justify_items": null,
            "grid_row": null,
            "max_height": null,
            "align_content": null,
            "visibility": null,
            "align_self": null,
            "height": null,
            "min_height": null,
            "padding": null,
            "grid_auto_rows": null,
            "grid_gap": null,
            "max_width": null,
            "order": null,
            "_view_module_version": "1.2.0",
            "grid_template_areas": null,
            "object_position": null,
            "object_fit": null,
            "grid_auto_columns": null,
            "margin": null,
            "display": null,
            "left": null
          }
        }
      }
    }
  },
  "cells": [
    {
      "cell_type": "code",
      "metadata": {
        "id": "uP38j54EcdZb"
      },
      "source": [
        "import pandas as pd\n",
        "import numpy as np\n",
        "import sklearn as sk\n",
        "from sklearn.model_selection import train_test_split\n",
        "import  matplotlib.pyplot as plt\n",
        "import seaborn as sns\n",
        "from ipywidgets import interact\n",
        "\n",
        "\n",
        "# Modeling & Accuracy Metrics\n",
        "from sklearn.linear_model import LogisticRegression\n",
        "from sklearn.svm import SVC\n",
        "from sklearn.neighbors import KNeighborsClassifier\n",
        "from sklearn.tree import DecisionTreeClassifier\n",
        "from sklearn.ensemble import RandomForestClassifier\n",
        "from xgboost import XGBClassifier\n",
        "from sklearn.metrics import classification_report, confusion_matrix"
      ],
      "execution_count": 1,
      "outputs": []
    },
    {
      "cell_type": "code",
      "metadata": {
        "colab": {
          "base_uri": "https://localhost:8080/"
        },
        "id": "kjRyQ7SCdF2g",
        "outputId": "e6747510-303b-464f-8319-9e9dc9994951"
      },
      "source": [
        "from google.colab import drive\n",
        "drive.mount('/content/drive')"
      ],
      "execution_count": 2,
      "outputs": [
        {
          "output_type": "stream",
          "text": [
            "Mounted at /content/drive\n"
          ],
          "name": "stdout"
        }
      ]
    },
    {
      "cell_type": "code",
      "metadata": {
        "id": "7NNsyMugdYTj"
      },
      "source": [
        "path = '/content/drive/MyDrive/data.csv'\n",
        "df = pd.read_csv(path)"
      ],
      "execution_count": 3,
      "outputs": []
    },
    {
      "cell_type": "code",
      "metadata": {
        "colab": {
          "base_uri": "https://localhost:8080/"
        },
        "id": "5rMIa8iKhZaf",
        "outputId": "f16488d0-267a-40b3-e4b1-3d78434bdd2c"
      },
      "source": [
        "df.shape"
      ],
      "execution_count": 4,
      "outputs": [
        {
          "output_type": "execute_result",
          "data": {
            "text/plain": [
              "(2200, 8)"
            ]
          },
          "metadata": {
            "tags": []
          },
          "execution_count": 4
        }
      ]
    },
    {
      "cell_type": "code",
      "metadata": {
        "colab": {
          "base_uri": "https://localhost:8080/",
          "height": 203
        },
        "id": "cehGnvsrhybo",
        "outputId": "e54f2212-06ad-4991-ee3d-66a2830cd759"
      },
      "source": [
        "df.head()"
      ],
      "execution_count": 5,
      "outputs": [
        {
          "output_type": "execute_result",
          "data": {
            "text/html": [
              "<div>\n",
              "<style scoped>\n",
              "    .dataframe tbody tr th:only-of-type {\n",
              "        vertical-align: middle;\n",
              "    }\n",
              "\n",
              "    .dataframe tbody tr th {\n",
              "        vertical-align: top;\n",
              "    }\n",
              "\n",
              "    .dataframe thead th {\n",
              "        text-align: right;\n",
              "    }\n",
              "</style>\n",
              "<table border=\"1\" class=\"dataframe\">\n",
              "  <thead>\n",
              "    <tr style=\"text-align: right;\">\n",
              "      <th></th>\n",
              "      <th>N</th>\n",
              "      <th>P</th>\n",
              "      <th>K</th>\n",
              "      <th>temperature</th>\n",
              "      <th>humidity</th>\n",
              "      <th>ph</th>\n",
              "      <th>rainfall</th>\n",
              "      <th>label</th>\n",
              "    </tr>\n",
              "  </thead>\n",
              "  <tbody>\n",
              "    <tr>\n",
              "      <th>0</th>\n",
              "      <td>90</td>\n",
              "      <td>42</td>\n",
              "      <td>43</td>\n",
              "      <td>20.879744</td>\n",
              "      <td>82.002744</td>\n",
              "      <td>6.502985</td>\n",
              "      <td>202.935536</td>\n",
              "      <td>rice</td>\n",
              "    </tr>\n",
              "    <tr>\n",
              "      <th>1</th>\n",
              "      <td>85</td>\n",
              "      <td>58</td>\n",
              "      <td>41</td>\n",
              "      <td>21.770462</td>\n",
              "      <td>80.319644</td>\n",
              "      <td>7.038096</td>\n",
              "      <td>226.655537</td>\n",
              "      <td>rice</td>\n",
              "    </tr>\n",
              "    <tr>\n",
              "      <th>2</th>\n",
              "      <td>60</td>\n",
              "      <td>55</td>\n",
              "      <td>44</td>\n",
              "      <td>23.004459</td>\n",
              "      <td>82.320763</td>\n",
              "      <td>7.840207</td>\n",
              "      <td>263.964248</td>\n",
              "      <td>rice</td>\n",
              "    </tr>\n",
              "    <tr>\n",
              "      <th>3</th>\n",
              "      <td>74</td>\n",
              "      <td>35</td>\n",
              "      <td>40</td>\n",
              "      <td>26.491096</td>\n",
              "      <td>80.158363</td>\n",
              "      <td>6.980401</td>\n",
              "      <td>242.864034</td>\n",
              "      <td>rice</td>\n",
              "    </tr>\n",
              "    <tr>\n",
              "      <th>4</th>\n",
              "      <td>78</td>\n",
              "      <td>42</td>\n",
              "      <td>42</td>\n",
              "      <td>20.130175</td>\n",
              "      <td>81.604873</td>\n",
              "      <td>7.628473</td>\n",
              "      <td>262.717340</td>\n",
              "      <td>rice</td>\n",
              "    </tr>\n",
              "  </tbody>\n",
              "</table>\n",
              "</div>"
            ],
            "text/plain": [
              "    N   P   K  temperature   humidity        ph    rainfall label\n",
              "0  90  42  43    20.879744  82.002744  6.502985  202.935536  rice\n",
              "1  85  58  41    21.770462  80.319644  7.038096  226.655537  rice\n",
              "2  60  55  44    23.004459  82.320763  7.840207  263.964248  rice\n",
              "3  74  35  40    26.491096  80.158363  6.980401  242.864034  rice\n",
              "4  78  42  42    20.130175  81.604873  7.628473  262.717340  rice"
            ]
          },
          "metadata": {
            "tags": []
          },
          "execution_count": 5
        }
      ]
    },
    {
      "cell_type": "code",
      "metadata": {
        "colab": {
          "base_uri": "https://localhost:8080/"
        },
        "id": "FvAtK2NWh5WT",
        "outputId": "b68a86e9-8ed4-44cc-a7e7-ce3413b36625"
      },
      "source": [
        "df.isnull().sum()"
      ],
      "execution_count": 6,
      "outputs": [
        {
          "output_type": "execute_result",
          "data": {
            "text/plain": [
              "N              0\n",
              "P              0\n",
              "K              0\n",
              "temperature    0\n",
              "humidity       0\n",
              "ph             0\n",
              "rainfall       0\n",
              "label          0\n",
              "dtype: int64"
            ]
          },
          "metadata": {
            "tags": []
          },
          "execution_count": 6
        }
      ]
    },
    {
      "cell_type": "markdown",
      "metadata": {
        "id": "PuOuTrwKieku"
      },
      "source": [
        "Fill-NA function is used to replace missing values with statistical values such as mean , median and mode. In this case it isn't required."
      ]
    },
    {
      "cell_type": "code",
      "metadata": {
        "colab": {
          "base_uri": "https://localhost:8080/"
        },
        "id": "qdkUXVY0ix5O",
        "outputId": "0e9998f8-5f2a-4378-bab2-621ee48cbbc3"
      },
      "source": [
        "df.value_counts().sum()"
      ],
      "execution_count": 7,
      "outputs": [
        {
          "output_type": "execute_result",
          "data": {
            "text/plain": [
              "2200"
            ]
          },
          "metadata": {
            "tags": []
          },
          "execution_count": 7
        }
      ]
    },
    {
      "cell_type": "code",
      "metadata": {
        "colab": {
          "base_uri": "https://localhost:8080/"
        },
        "id": "RgovDICsjKzg",
        "outputId": "93e6d176-81a4-45a2-cf53-5faf908cdd91"
      },
      "source": [
        "df['label'].value_counts()"
      ],
      "execution_count": 8,
      "outputs": [
        {
          "output_type": "execute_result",
          "data": {
            "text/plain": [
              "papaya         100\n",
              "coffee         100\n",
              "apple          100\n",
              "banana         100\n",
              "grapes         100\n",
              "lentil         100\n",
              "cotton         100\n",
              "mothbeans      100\n",
              "mungbean       100\n",
              "orange         100\n",
              "coconut        100\n",
              "pomegranate    100\n",
              "jute           100\n",
              "blackgram      100\n",
              "rice           100\n",
              "watermelon     100\n",
              "muskmelon      100\n",
              "chickpea       100\n",
              "mango          100\n",
              "maize          100\n",
              "kidneybeans    100\n",
              "pigeonpeas     100\n",
              "Name: label, dtype: int64"
            ]
          },
          "metadata": {
            "tags": []
          },
          "execution_count": 8
        }
      ]
    },
    {
      "cell_type": "code",
      "metadata": {
        "colab": {
          "base_uri": "https://localhost:8080/"
        },
        "id": "NBcKFNYbjspK",
        "outputId": "04a65020-4d85-4ee2-90d3-1dd07e114672"
      },
      "source": [
        "print(\"N AVG: {0:.2f}\".format(df['N'].mean()))\n",
        "print(\"P AVG: {0:.2f}\".format(df['P'].mean()))\n",
        "print(\"K AVG: {0:.2f}\".format(df['K'].mean()))\n",
        "print(\"Temperature celcius AVG: {0:.2f}\".format(df['temperature'].mean()))\n",
        "print(\"Humidity% AVG: {0:.2f}\".format(df['humidity'].mean()))\n",
        "print(\"pH AVG: {0:.2f}\".format(df['ph'].mean()))\n",
        "print(\"Rainfall mm AVG: {0:.2f}\".format(df['rainfall'].mean()))"
      ],
      "execution_count": 9,
      "outputs": [
        {
          "output_type": "stream",
          "text": [
            "N AVG: 50.55\n",
            "P AVG: 53.36\n",
            "K AVG: 48.15\n",
            "Temperature celcius AVG: 25.62\n",
            "Humidity% AVG: 71.48\n",
            "pH AVG: 6.47\n",
            "Rainfall mm AVG: 103.46\n"
          ],
          "name": "stdout"
        }
      ]
    },
    {
      "cell_type": "code",
      "metadata": {
        "colab": {
          "base_uri": "https://localhost:8080/",
          "height": 637,
          "referenced_widgets": [
            "8c4676e7c84245ff86802a5563844dde",
            "68042dd7193a4e5084e1e54850698541",
            "7cd9f6bb2dd74417b3d67b408b90504c",
            "1025830fcf0a431094c23494ad731d10",
            "5c43bb58bb3b4422a8b43375124c7da8",
            "ac1d4367083f4549a185a25c27eb041e",
            "4991ed09a48c4e57af50c631de68b603"
          ]
        },
        "id": "QVOD2RKJBn0k",
        "outputId": "83ee53e9-6b74-45e2-c4ee-b339394b57eb"
      },
      "source": [
        "@interact\n",
        "def summary(crops=list(df['label'].value_counts().index)):\n",
        "  x=df[df['label']==crops]\n",
        "  print(\".........................\")\n",
        "  print(\"stats for nitrogen\")\n",
        "  print(\"min nitrogen required:\",x['N'].min())\n",
        "  print(\"mean nitrogen required:\",x['N'].mean())\n",
        "  print(\"max nitrogen required:\",x['N'].max())\n",
        "\n",
        "  print(\".........................\")\n",
        "  print(\"stats for Phosphorous\")\n",
        "  print(\"min Phosphorous required:\",x['P'].min())\n",
        "  print(\"mean Phosphorous required:\",x['P'].mean())\n",
        "  print(\"max Phosphorous required:\",x['P'].max())\n",
        "\n",
        "  print(\".........................\")\n",
        "  print(\"stats for Potassium\")\n",
        "  print(\"min Potassium required:\",x['K'].min())\n",
        "  print(\"mean Potassium required:\",x['K'].mean())\n",
        "  print(\"max Potassium required:\",x['K'].max())\n",
        "\n",
        "  print(\".........................\")\n",
        "  print(\"stats for temperature\")\n",
        "  print(\"min temperature required:\",x['temperature'].min())\n",
        "  print(\"mean temperature required:\",x['temperature'].mean())\n",
        "  print(\"max temperature required:\",x['temperature'].max())\n",
        "\n",
        "  print(\".........................\")\n",
        "  print(\"stats for humidity\")\n",
        "  print(\"min humidity required:\",x['humidity'].min())\n",
        "  print(\"mean humidity required:\",x['humidity'].mean())\n",
        "  print(\"max humidity required:\",x['humidity'].max())\n",
        "\n",
        "  print(\".........................\")\n",
        "  print(\"stats for pH\")\n",
        "  print(\"min pH required:\",x['ph'].min())\n",
        "  print(\"mean pH required:\",x['ph'].mean())\n",
        "  print(\"max pH required:\",x['ph'].max())\n",
        "\n",
        "  print(\".........................\")\n",
        "  print(\"stats for rainfall\")\n",
        "  print(\"min rainfall required:\",x['rainfall'].min())\n",
        "  print(\"mean rainfall required:\",x['rainfall'].mean())\n",
        "  print(\"max rainfall required:\",x['rainfall'].max())"
      ],
      "execution_count": 10,
      "outputs": [
        {
          "output_type": "display_data",
          "data": {
            "application/vnd.jupyter.widget-view+json": {
              "model_id": "8c4676e7c84245ff86802a5563844dde",
              "version_minor": 0,
              "version_major": 2
            },
            "text/plain": [
              "interactive(children=(Dropdown(description='crops', options=('papaya', 'coffee', 'apple', 'banana', 'grapes', …"
            ]
          },
          "metadata": {
            "tags": []
          }
        }
      ]
    },
    {
      "cell_type": "code",
      "metadata": {
        "colab": {
          "base_uri": "https://localhost:8080/",
          "height": 452,
          "referenced_widgets": [
            "a31f416c8f224c03ba17d938ea69decd",
            "2be7bd548f8b42278e57c1ac3bc96d00",
            "23686103bb584b2f994eb31d93e71165",
            "8025695bc6654c2f8841c18a049dfb03",
            "8724a3989c794bddb2af1abe577f53b6",
            "43d756ae1a2d4de486432bb180dcd50a",
            "ad646a8ae1d44928b6ef16f90031ed2a"
          ]
        },
        "id": "JBDNp3jPRguC",
        "outputId": "cf1d4d1f-eab7-47c0-c574-080ef309fddd"
      },
      "source": [
        "@interact\n",
        "def compare(conditions=['N','P','K','temperature','humidity','ph','rainfall']):\n",
        "  print(\"Average value of\",conditions,\"is {0:.2f}\".format(df[conditions].mean()))\n",
        "  print(\"...............................................\")\n",
        "  print(\"cotton: {0:.2f}\".format(df[(df['label']=='cotton')][conditions].mean()))\n",
        "  print(\"banana: {0:.2f}\".format(df[(df['label']=='banana')][conditions].mean()))\n",
        "  print(\"chickpea: {0:.2f}\".format(df[(df['label']=='chickpea')][conditions].mean()))\n",
        "  print(\"papaya: {0:.2f}\".format(df[(df['label']=='papaya')][conditions].mean()))\n",
        "  print(\"lentil: {0:.2f}\".format(df[(df['label']=='lentil')][conditions].mean()))\n",
        "  print(\"maize: {0:.2f}\".format(df[(df['label']=='maize')][conditions].mean()))\n",
        "  print(\"jute: {0:.2f}\".format(df[(df['label']=='jute')][conditions].mean()))\n",
        "  print(\"pigeonpeas: {0:.2f}\".format(df[(df['label']=='pigeonpeas')][conditions].mean()))\n",
        "  print(\"coconut: {0:.2f}\".format(df[(df['label']=='coconut')][conditions].mean()))\n",
        "  print(\"apple: {0:.2f}\".format(df[(df['label']=='apple')][conditions].mean()))\n",
        "  print(\"watermelon: {0:.2f}\".format(df[(df['label']=='watermelon')][conditions].mean()))\n",
        "  print(\"grapes: {0:.2f}\".format(df[(df['label']=='grapes')][conditions].mean()))\n",
        "  print(\"muskmelon: {0:.2f}\".format(df[(df['label']=='muskmelon')][conditions].mean()))\n",
        "  print(\"blackgram: {0:.2f}\".format(df[(df['label']=='blackgram')][conditions].mean()))\n",
        "  print(\"coffee: {0:.2f}\".format(df[(df['label']=='coffee')][conditions].mean()))\n",
        "  print(\"mango: {0:.2f}\".format(df[(df['label']=='mango')][conditions].mean()))\n",
        "  print(\"rice: {0:.2f}\".format(df[(df['label']=='rice')][conditions].mean()))\n",
        "  print(\"orange: {0:.2f}\".format(df[(df['label']=='orange')][conditions].mean()))\n",
        "  print(\"pomegranate: {0:.2f}\".format(df[(df['label']=='pomegranate')][conditions].mean()))\n",
        "  print(\"kidneybeans: {0:.2f}\".format(df[(df['label']=='kidneybeans')][conditions].mean()))\n",
        "  print(\"mungbean: {0:.2f}\".format(df[(df['label']=='mungbean')][conditions].mean()))\n",
        "  print(\"mothbeans: {0:.2f}\".format(df[(df['label']=='mothbeans')][conditions].mean()))       "
      ],
      "execution_count": 11,
      "outputs": [
        {
          "output_type": "display_data",
          "data": {
            "application/vnd.jupyter.widget-view+json": {
              "model_id": "a31f416c8f224c03ba17d938ea69decd",
              "version_minor": 0,
              "version_major": 2
            },
            "text/plain": [
              "interactive(children=(Dropdown(description='conditions', options=('N', 'P', 'K', 'temperature', 'humidity', 'p…"
            ]
          },
          "metadata": {
            "tags": []
          }
        }
      ]
    },
    {
      "cell_type": "code",
      "metadata": {
        "colab": {
          "base_uri": "https://localhost:8080/",
          "height": 217,
          "referenced_widgets": [
            "3c4527f6cfb84c39b85fe1d032765d86",
            "0179b7ee9c834967a7362432d9d739cf",
            "c4ad271b680f4b619a632d74bc5aa313",
            "9a8a67a2609747769f72ec3982006662",
            "9516d0b132e84f9397e4034f777a3813",
            "470a4335e2f04911a5cc840f456abd99",
            "1e79bbbed99f40b8b63dfbe4334c8906"
          ]
        },
        "id": "Bs_SfDaP6Rse",
        "outputId": "de144852-5fdd-4f8b-e5ba-7d7a0d5bd4cc"
      },
      "source": [
        "@interact\n",
        "def compare(conditions=['N','P','K','temperature','humidity','ph','rainfall']):\n",
        "  print(\"crops which require greater than avg\",conditions,'\\n')\n",
        "  print(df[df[conditions]>df[conditions].mean()]['label'].unique())\n",
        "  print(\"............................................\")\n",
        "  print(\"crops which require less than average\",conditions,'\\n')\n",
        "  print(df[df[conditions]<df[conditions].mean()]['label'].unique())"
      ],
      "execution_count": 16,
      "outputs": [
        {
          "output_type": "display_data",
          "data": {
            "application/vnd.jupyter.widget-view+json": {
              "model_id": "3c4527f6cfb84c39b85fe1d032765d86",
              "version_minor": 0,
              "version_major": 2
            },
            "text/plain": [
              "interactive(children=(Dropdown(description='conditions', options=('N', 'P', 'K', 'temperature', 'humidity', 'p…"
            ]
          },
          "metadata": {
            "tags": []
          }
        }
      ]
    },
    {
      "cell_type": "code",
      "metadata": {
        "colab": {
          "base_uri": "https://localhost:8080/",
          "height": 563
        },
        "id": "3WuVPNVH9DWT",
        "outputId": "41a7edfb-e6d3-45df-c0a1-4a26052e5de3"
      },
      "source": [
        "plt.subplot(2,4,1)\n",
        "sns.distplot(df['N'],color='grey')\n",
        "plt.xlabel('Ration of Nitrogen',fontsize=10)\n",
        "plt.grid()\n",
        "\n",
        "plt.subplot(2,4,2)\n",
        "sns.distplot(df['P'],color='pink')\n",
        "plt.xlabel('Ration of Phosphorous',fontsize=10)\n",
        "plt.grid()\n",
        "\n",
        "plt.subplot(2,4,3)\n",
        "sns.distplot(df['K'],color='darkgreen')\n",
        "plt.xlabel('Ration of Potassium',fontsize=10)\n",
        "plt.grid()\n",
        "\n",
        "plt.subplot(2,4,4)\n",
        "sns.distplot(df['temperature'],color='yellow')\n",
        "plt.xlabel('Ration ofTemperature',fontsize=10)\n",
        "plt.grid()\n",
        "\n",
        "plt.subplot(2,4,5)\n",
        "sns.distplot(df['rainfall'],color='orange')\n",
        "plt.xlabel('Ration of rainfall',fontsize=10)\n",
        "plt.grid()\n",
        "\n",
        "plt.subplot(2,4,6)\n",
        "sns.distplot(df['humidity'],color='lightblue')\n",
        "plt.xlabel('Ration of Humidity',fontsize=10)\n",
        "plt.grid()\n",
        "\n",
        "plt.subplot(2,4,7)\n",
        "sns.distplot(df['ph'],color='lightgreen')\n",
        "plt.xlabel('Ration of pH',fontsize=10)\n",
        "plt.grid()\n",
        "\n",
        "plt.suptitle('Distribution for different Agricultural conditions',fontsize=22)\n",
        "plt.show()"
      ],
      "execution_count": 33,
      "outputs": [
        {
          "output_type": "stream",
          "text": [
            "/usr/local/lib/python3.7/dist-packages/seaborn/distributions.py:2557: FutureWarning: `distplot` is a deprecated function and will be removed in a future version. Please adapt your code to use either `displot` (a figure-level function with similar flexibility) or `histplot` (an axes-level function for histograms).\n",
            "  warnings.warn(msg, FutureWarning)\n",
            "/usr/local/lib/python3.7/dist-packages/seaborn/distributions.py:2557: FutureWarning: `distplot` is a deprecated function and will be removed in a future version. Please adapt your code to use either `displot` (a figure-level function with similar flexibility) or `histplot` (an axes-level function for histograms).\n",
            "  warnings.warn(msg, FutureWarning)\n",
            "/usr/local/lib/python3.7/dist-packages/seaborn/distributions.py:2557: FutureWarning: `distplot` is a deprecated function and will be removed in a future version. Please adapt your code to use either `displot` (a figure-level function with similar flexibility) or `histplot` (an axes-level function for histograms).\n",
            "  warnings.warn(msg, FutureWarning)\n",
            "/usr/local/lib/python3.7/dist-packages/seaborn/distributions.py:2557: FutureWarning: `distplot` is a deprecated function and will be removed in a future version. Please adapt your code to use either `displot` (a figure-level function with similar flexibility) or `histplot` (an axes-level function for histograms).\n",
            "  warnings.warn(msg, FutureWarning)\n",
            "/usr/local/lib/python3.7/dist-packages/seaborn/distributions.py:2557: FutureWarning: `distplot` is a deprecated function and will be removed in a future version. Please adapt your code to use either `displot` (a figure-level function with similar flexibility) or `histplot` (an axes-level function for histograms).\n",
            "  warnings.warn(msg, FutureWarning)\n",
            "/usr/local/lib/python3.7/dist-packages/seaborn/distributions.py:2557: FutureWarning: `distplot` is a deprecated function and will be removed in a future version. Please adapt your code to use either `displot` (a figure-level function with similar flexibility) or `histplot` (an axes-level function for histograms).\n",
            "  warnings.warn(msg, FutureWarning)\n",
            "/usr/local/lib/python3.7/dist-packages/seaborn/distributions.py:2557: FutureWarning: `distplot` is a deprecated function and will be removed in a future version. Please adapt your code to use either `displot` (a figure-level function with similar flexibility) or `histplot` (an axes-level function for histograms).\n",
            "  warnings.warn(msg, FutureWarning)\n"
          ],
          "name": "stderr"
        },
        {
          "output_type": "display_data",
          "data": {
            "image/png": "[encoded data removed]",
            "text/plain": [
              "<Figure size 432x288 with 7 Axes>"
            ]
          },
          "metadata": {
            "tags": [],
            "needs_background": "light"
          }
        }
      ]
    },
    {
      "cell_type": "code",
      "metadata": {
        "colab": {
          "base_uri": "https://localhost:8080/"
        },
        "id": "NWFtoynGC2gb",
        "outputId": "c5d007f5-8acd-4869-9e3f-0a7ae8189a1f"
      },
      "source": [
        "print(\"some of the outliers\")\n",
        "print(\"                    \")\n",
        "print(\"crops which require very high nitrogen:\",df[df['N']>120]['label'].unique())\n",
        "print(\"crops which require very high phosphorous:\",df[df['P']>100]['label'].unique())\n",
        "print(\"crops which require very high potassium:\",df[df['K']>200]['label'].unique())\n",
        "print(\"crops which require very high rainfall:\",df[df['rainfall']>200]['label'].unique())\n",
        "print(\"crops which require very high temperature:\",df[df['temperature']>40]['label'].unique())\n",
        "print(\"crops which require very low temperature:\",df[df['temperature']<10]['label'].unique())\n",
        "print(\"crops which require very high pH:\",df[df['ph']>9]['label'].unique())\n",
        "print(\"crops which require very low pH:\",df[df['ph']<4]['label'].unique())"
      ],
      "execution_count": 36,
      "outputs": [
        {
          "output_type": "stream",
          "text": [
            "some of the outliers\n",
            "                    \n",
            "crops which require very high nitrogen: ['cotton']\n",
            "crops which require very high phosphorous: ['grapes' 'apple']\n",
            "crops which require very high potassium: ['grapes' 'apple']\n",
            "crops which require very high rainfall: ['rice' 'papaya' 'coconut']\n",
            "crops which require very high temperature: ['grapes' 'papaya']\n",
            "crops which require very low temperature: ['grapes']\n",
            "crops which require very high pH: ['mothbeans']\n",
            "crops which require very low pH: ['mothbeans']\n"
          ],
          "name": "stdout"
        }
      ]
    },
    {
      "cell_type": "code",
      "metadata": {
        "colab": {
          "base_uri": "https://localhost:8080/"
        },
        "id": "HWmZ8m1nFnhc",
        "outputId": "d6eb0133-beca-4ad2-d1a0-7c9ae0551991"
      },
      "source": [
        "print(\"summer crops\")\n",
        "print(df[(df['temperature']>30)&(df['humidity']>50)]['label'].unique())\n",
        "print(\"                            \")\n",
        "print(\"rainy crops\")\n",
        "print(df[(df['temperature']<20)&(df['humidity']>30)]['label'].unique())\n",
        "print(\"                            \")\n",
        "print(\"winter crops\")\n",
        "print(df[(df['rainfall']>200)&(df['humidity']>30)]['label'].unique())"
      ],
      "execution_count": 37,
      "outputs": [
        {
          "output_type": "stream",
          "text": [
            "summer crops\n",
            "['pigeonpeas' 'mothbeans' 'blackgram' 'mango' 'grapes' 'orange' 'papaya']\n",
            "                            \n",
            "rainy crops\n",
            "['maize' 'pigeonpeas' 'lentil' 'pomegranate' 'grapes' 'orange']\n",
            "                            \n",
            "winter crops\n",
            "['rice' 'papaya' 'coconut']\n"
          ],
          "name": "stdout"
        }
      ]
    },
    {
      "cell_type": "markdown",
      "metadata": {
        "id": "9JmI8ttcH9Kk"
      },
      "source": [
        "clusterring analysis\n"
      ]
    },
    {
      "cell_type": "code",
      "metadata": {
        "colab": {
          "base_uri": "https://localhost:8080/"
        },
        "id": "vAEufZhiH_7y",
        "outputId": "1e79efb7-5f33-4102-dbfb-e59017df8385"
      },
      "source": [
        "from sklearn.cluster import KMeans\n",
        "\n",
        "#removing the labels column\n",
        "x=df.drop(['label'],axis=1)\n",
        "\n",
        "x=x.values\n",
        "\n",
        "#checking the shape\n",
        "print(x.shape)"
      ],
      "execution_count": 40,
      "outputs": [
        {
          "output_type": "stream",
          "text": [
            "(2200, 7)\n"
          ],
          "name": "stdout"
        }
      ]
    },
    {
      "cell_type": "code",
      "metadata": {
        "colab": {
          "base_uri": "https://localhost:8080/",
          "height": 300
        },
        "id": "nMLpdM5xJa9a",
        "outputId": "04fb3777-1f3c-4d8f-c748-76410f602b99"
      },
      "source": [
        "#determining optimal number of clusters within the dataset with elbow method\n",
        "\n",
        "plt.rcParams['figure.figsize']=(10,4)\n",
        "\n",
        "wcss = []\n",
        "for i in range(1,11):\n",
        "  km=KMeans(n_clusters=i,init='k-means++',max_iter=300,n_init=10,random_state=0)\n",
        "  km.fit(x)\n",
        "  wcss.append(km.inertia_)\n",
        "\n",
        "#plotting the results \n",
        "plt.plot(range(1,11),wcss)\n",
        "plt.title('The Elbow Method',fontsize=20)\n",
        "plt.xlabel('No. of clusters')\n",
        "plt.ylabel('wcss')\n",
        "plt.show()"
      ],
      "execution_count": 41,
      "outputs": [
        {
          "output_type": "display_data",
          "data": {
            "image/png": "[encoded data removed]",
            "text/plain": [
              "<Figure size 720x288 with 1 Axes>"
            ]
          },
          "metadata": {
            "tags": [],
            "needs_background": "light"
          }
        }
      ]
    },
    {
      "cell_type": "markdown",
      "metadata": {
        "id": "-7K2VavEKyQ5"
      },
      "source": [
        "### #We can see two elbows 3 and 4. In such cases we generally take the second one.Hence, we'll proceed with 4. "
      ]
    },
    {
      "cell_type": "code",
      "metadata": {
        "colab": {
          "base_uri": "https://localhost:8080/"
        },
        "id": "bgJoPODrLCoj",
        "outputId": "13188dea-5f10-4881-b399-db394ab2eef2"
      },
      "source": [
        "#Lets implement the K Means algorithm to perform Clustering analysis\n",
        "\n",
        "km = KMeans (n_clusters = 4, init = 'k-means++', max_iter = 300, n_init = 10, random_state = 0)\n",
        "y_means = km.fit_predict(x)\n",
        "\n",
        "# Lets find out the Results\n",
        "a = df['label']\n",
        "y_means = pd.DataFrame (y_means)\n",
        "z = pd.concat([y_means, a], axis = 1)\n",
        "z = z. rename (columns = {0: 'cluster'})\n",
        "\n",
        "# Lets check the Clusters of each Crops\n",
        "print(\"Lets check the Results After Applying the K Means Clustering Analysis \\n\")\n",
        "print(\"Crops in First Cluster:\", z[z['cluster'] == 0]['label'].unique())\n",
        "print(\"_______________________________________________________________\")\n",
        "print(\"Crops in Second Cluster:\", z[z['cluster'] == 1]['label'].unique())\n",
        "print(\"_______________________________________________________________\")\n",
        "print(\"Crops in Third Cluster:\", z[z['cluster'] == 2]['label'].unique())\n",
        "print(\"_______________________________________________________________\")\n",
        "print(\"Crops in Forth Cluster:\", z[z['cluster'] == 3]['label'].unique())"
      ],
      "execution_count": 45,
      "outputs": [
        {
          "output_type": "stream",
          "text": [
            "Lets check the Results After Applying the K Means Clustering Analysis \n",
            "\n",
            "Crops in First Cluster: ['maize' 'chickpea' 'kidneybeans' 'pigeonpeas' 'mothbeans' 'mungbean'\n",
            " 'blackgram' 'lentil' 'pomegranate' 'mango' 'orange' 'papaya' 'coconut']\n",
            "_______________________________________________________________\n",
            "Crops in Second Cluster: ['grapes' 'apple']\n",
            "_______________________________________________________________\n",
            "Crops in Third Cluster: ['maize' 'banana' 'watermelon' 'muskmelon' 'papaya' 'cotton' 'coffee']\n",
            "_______________________________________________________________\n",
            "Crops in Forth Cluster: ['rice' 'pigeonpeas' 'papaya' 'coconut' 'jute' 'coffee']\n"
          ],
          "name": "stdout"
        }
      ]
    },
    {
      "cell_type": "code",
      "metadata": {
        "colab": {
          "base_uri": "https://localhost:8080/"
        },
        "id": "PKH6oW3nOIP2",
        "outputId": "d7fce421-d10b-4342-8abb-48e1932f7b99"
      },
      "source": [
        "#Splitting\n",
        "\n",
        "y=df['label']\n",
        "x=df.drop(['label'],axis=1)\n",
        "\n",
        "print(\"Shape of x:\",x.shape)\n",
        "print(\"Shape of y:\",y.shape)"
      ],
      "execution_count": 47,
      "outputs": [
        {
          "output_type": "stream",
          "text": [
            "Shape of x: (2200, 7)\n",
            "Shape of y: (2200,)\n"
          ],
          "name": "stdout"
        }
      ]
    },
    {
      "cell_type": "code",
      "metadata": {
        "colab": {
          "base_uri": "https://localhost:8080/"
        },
        "id": "fVyHjJRbPg3K",
        "outputId": "95b48fc8-9863-4691-bae8-9bf545a8e604"
      },
      "source": [
        "#training and testing sets\n",
        "from sklearn.model_selection import train_test_split\n",
        "x_train,x_test,y_train,y_test=train_test_split(x,y,test_size=0.2,random_state=0)\n",
        "\n",
        "print(\"Shape of x_train:\",x_train.shape)\n",
        "print(\"Shape of y_train:\",y_train.shape)\n",
        "print(\"Shape of x_test:\",x_test.shape)\n",
        "print(\"Shape of y_test:\",y_test.shape)"
      ],
      "execution_count": 48,
      "outputs": [
        {
          "output_type": "stream",
          "text": [
            "Shape of x_train: (1760, 7)\n",
            "Shape of y_train: (1760,)\n",
            "Shape of x_test: (440, 7)\n",
            "Shape of y_test: (440,)\n"
          ],
          "name": "stdout"
        }
      ]
    },
    {
      "cell_type": "code",
      "metadata": {
        "colab": {
          "base_uri": "https://localhost:8080/"
        },
        "id": "GtKfB3dXQapG",
        "outputId": "26bd170b-8d84-434b-947c-2d929eba9e90"
      },
      "source": [
        "from sklearn.linear_model import LogisticRegression\n",
        "model=LogisticRegression()\n",
        "model.fit(x_train,y_train)\n",
        "y_predicted=model.predict(x_test)"
      ],
      "execution_count": 51,
      "outputs": [
        {
          "output_type": "stream",
          "text": [
            "/usr/local/lib/python3.7/dist-packages/sklearn/linear_model/_logistic.py:940: ConvergenceWarning: lbfgs failed to converge (status=1):\n",
            "STOP: TOTAL NO. of ITERATIONS REACHED LIMIT.\n",
            "\n",
            "Increase the number of iterations (max_iter) or scale the data as shown in:\n",
            "    https://scikit-learn.org/stable/modules/preprocessing.html\n",
            "Please also refer to the documentation for alternative solver options:\n",
            "    https://scikit-learn.org/stable/modules/linear_model.html#logistic-regression\n",
            "  extra_warning_msg=_LOGISTIC_SOLVER_CONVERGENCE_MSG)\n"
          ],
          "name": "stderr"
        }
      ]
    },
    {
      "cell_type": "code",
      "metadata": {
        "colab": {
          "base_uri": "https://localhost:8080/",
          "height": 607
        },
        "id": "RGKUEiGYQ1hm",
        "outputId": "6aceeafe-788d-4dd9-efa2-9f6be0d96cf8"
      },
      "source": [
        "#Model Performance\n",
        "from sklearn.metrics import confusion_matrix\n",
        "\n",
        "#plotting thr confusion matrix first\n",
        "plt.rcParams['figure.figsize']=(10,10)\n",
        "c=confusion_matrix(y_test,y_predicted)\n",
        "sns.heatmap(c,annot=True,cmap='Wistia')\n",
        "plt.title('Confusion matrix for logistic regression',fontsize=12)\n",
        "plt.show()"
      ],
      "execution_count": 52,
      "outputs": [
        {
          "output_type": "display_data",
          "data": {
            "image/png": "[encoded data removed]",
            "text/plain": [
              "<Figure size 720x720 with 2 Axes>"
            ]
          },
          "metadata": {
            "tags": [],
            "needs_background": "light"
          }
        }
      ]
    },
    {
      "cell_type": "code",
      "metadata": {
        "colab": {
          "base_uri": "https://localhost:8080/"
        },
        "id": "OeIZ6sZDSN6J",
        "outputId": "f66dfcc2-7e79-4fd4-c9b0-65ed4846e391"
      },
      "source": [
        "#classification report\n",
        "cr=classification_report(y_test,y_predicted)\n",
        "print(cr)"
      ],
      "execution_count": 53,
      "outputs": [
        {
          "output_type": "stream",
          "text": [
            "              precision    recall  f1-score   support\n",
            "\n",
            "       apple       1.00      1.00      1.00        18\n",
            "      banana       1.00      1.00      1.00        18\n",
            "   blackgram       0.86      0.82      0.84        22\n",
            "    chickpea       1.00      1.00      1.00        23\n",
            "     coconut       1.00      1.00      1.00        15\n",
            "      coffee       1.00      1.00      1.00        17\n",
            "      cotton       0.89      1.00      0.94        16\n",
            "      grapes       1.00      1.00      1.00        18\n",
            "        jute       0.84      1.00      0.91        21\n",
            " kidneybeans       1.00      1.00      1.00        20\n",
            "      lentil       0.94      0.94      0.94        17\n",
            "       maize       0.94      0.89      0.91        18\n",
            "       mango       1.00      1.00      1.00        21\n",
            "   mothbeans       0.88      0.92      0.90        25\n",
            "    mungbean       1.00      1.00      1.00        17\n",
            "   muskmelon       1.00      1.00      1.00        23\n",
            "      orange       1.00      1.00      1.00        23\n",
            "      papaya       1.00      0.95      0.98        21\n",
            "  pigeonpeas       1.00      1.00      1.00        22\n",
            " pomegranate       1.00      1.00      1.00        23\n",
            "        rice       1.00      0.84      0.91        25\n",
            "  watermelon       1.00      1.00      1.00        17\n",
            "\n",
            "    accuracy                           0.97       440\n",
            "   macro avg       0.97      0.97      0.97       440\n",
            "weighted avg       0.97      0.97      0.97       440\n",
            "\n"
          ],
          "name": "stdout"
        }
      ]
    },
    {
      "cell_type": "code",
      "metadata": {
        "colab": {
          "base_uri": "https://localhost:8080/",
          "height": 203
        },
        "id": "cr07NppDSwz4",
        "outputId": "b646f7d3-0f5c-4edc-ab52-c5ff102f3263"
      },
      "source": [
        "#Just a cross check with the main dataframe.\n",
        "df.head()"
      ],
      "execution_count": 54,
      "outputs": [
        {
          "output_type": "execute_result",
          "data": {
            "text/html": [
              "<div>\n",
              "<style scoped>\n",
              "    .dataframe tbody tr th:only-of-type {\n",
              "        vertical-align: middle;\n",
              "    }\n",
              "\n",
              "    .dataframe tbody tr th {\n",
              "        vertical-align: top;\n",
              "    }\n",
              "\n",
              "    .dataframe thead th {\n",
              "        text-align: right;\n",
              "    }\n",
              "</style>\n",
              "<table border=\"1\" class=\"dataframe\">\n",
              "  <thead>\n",
              "    <tr style=\"text-align: right;\">\n",
              "      <th></th>\n",
              "      <th>N</th>\n",
              "      <th>P</th>\n",
              "      <th>K</th>\n",
              "      <th>temperature</th>\n",
              "      <th>humidity</th>\n",
              "      <th>ph</th>\n",
              "      <th>rainfall</th>\n",
              "      <th>label</th>\n",
              "    </tr>\n",
              "  </thead>\n",
              "  <tbody>\n",
              "    <tr>\n",
              "      <th>0</th>\n",
              "      <td>90</td>\n",
              "      <td>42</td>\n",
              "      <td>43</td>\n",
              "      <td>20.879744</td>\n",
              "      <td>82.002744</td>\n",
              "      <td>6.502985</td>\n",
              "      <td>202.935536</td>\n",
              "      <td>rice</td>\n",
              "    </tr>\n",
              "    <tr>\n",
              "      <th>1</th>\n",
              "      <td>85</td>\n",
              "      <td>58</td>\n",
              "      <td>41</td>\n",
              "      <td>21.770462</td>\n",
              "      <td>80.319644</td>\n",
              "      <td>7.038096</td>\n",
              "      <td>226.655537</td>\n",
              "      <td>rice</td>\n",
              "    </tr>\n",
              "    <tr>\n",
              "      <th>2</th>\n",
              "      <td>60</td>\n",
              "      <td>55</td>\n",
              "      <td>44</td>\n",
              "      <td>23.004459</td>\n",
              "      <td>82.320763</td>\n",
              "      <td>7.840207</td>\n",
              "      <td>263.964248</td>\n",
              "      <td>rice</td>\n",
              "    </tr>\n",
              "    <tr>\n",
              "      <th>3</th>\n",
              "      <td>74</td>\n",
              "      <td>35</td>\n",
              "      <td>40</td>\n",
              "      <td>26.491096</td>\n",
              "      <td>80.158363</td>\n",
              "      <td>6.980401</td>\n",
              "      <td>242.864034</td>\n",
              "      <td>rice</td>\n",
              "    </tr>\n",
              "    <tr>\n",
              "      <th>4</th>\n",
              "      <td>78</td>\n",
              "      <td>42</td>\n",
              "      <td>42</td>\n",
              "      <td>20.130175</td>\n",
              "      <td>81.604873</td>\n",
              "      <td>7.628473</td>\n",
              "      <td>262.717340</td>\n",
              "      <td>rice</td>\n",
              "    </tr>\n",
              "  </tbody>\n",
              "</table>\n",
              "</div>"
            ],
            "text/plain": [
              "    N   P   K  temperature   humidity        ph    rainfall label\n",
              "0  90  42  43    20.879744  82.002744  6.502985  202.935536  rice\n",
              "1  85  58  41    21.770462  80.319644  7.038096  226.655537  rice\n",
              "2  60  55  44    23.004459  82.320763  7.840207  263.964248  rice\n",
              "3  74  35  40    26.491096  80.158363  6.980401  242.864034  rice\n",
              "4  78  42  42    20.130175  81.604873  7.628473  262.717340  rice"
            ]
          },
          "metadata": {
            "tags": []
          },
          "execution_count": 54
        }
      ]
    },
    {
      "cell_type": "code",
      "metadata": {
        "colab": {
          "base_uri": "https://localhost:8080/"
        },
        "id": "iQalHCMyTBJA",
        "outputId": "5a94e819-9a8b-4e5f-ec57-57db831dbab8"
      },
      "source": [
        "prediction=model.predict((np.array([[90,40,40,20,80,7,200]])))\n",
        "print(\"For given condition the suggested crop is: \",prediction)"
      ],
      "execution_count": 55,
      "outputs": [
        {
          "output_type": "stream",
          "text": [
            "For given condition the suggested crop is:  ['rice']\n"
          ],
          "name": "stdout"
        }
      ]
    }
  ]
}